{
 "cells": [
  {
   "cell_type": "markdown",
   "metadata": {
    "colab_type": "text",
    "deletable": true,
    "editable": true,
    "id": "WmIaoDuXJd1C"
   },
   "source": [
    "# TV Script Generation\n",
    "In this project, you'll generate your own [Simpsons](https://en.wikipedia.org/wiki/The_Simpsons) TV scripts using RNNs.  You'll be using part of the [Simpsons dataset](https://www.kaggle.com/wcukierski/the-simpsons-by-the-data) of scripts from 27 seasons.  The Neural Network you'll build will generate a new TV script for a scene at [Moe's Tavern](https://simpsonswiki.com/wiki/Moe's_Tavern).\n",
    "## Get the Data\n",
    "The data is already provided for you.  You'll be using a subset of the original dataset.  It consists of only the scenes in Moe's Tavern.  This doesn't include other versions of the tavern, like \"Moe's Cavern\", \"Flaming Moe's\", \"Uncle Moe's Family Feed-Bag\", etc.."
   ]
  },
  {
   "cell_type": "code",
   "execution_count": 0,
   "metadata": {
    "colab": {
     "autoexec": {
      "startup": false,
      "wait_interval": 0
     }
    },
    "colab_type": "code",
    "collapsed": true,
    "deletable": true,
    "editable": true,
    "id": "_KIjz93-Jd1D"
   },
   "outputs": [],
   "source": [
    "\"\"\"\n",
    "DON'T MODIFY ANYTHING IN THIS CELL\n",
    "\"\"\"\n",
    "import helper\n",
    "\n",
    "data_dir = './data/simpsons/moes_tavern_lines.txt'\n",
    "text = helper.load_data(data_dir)\n",
    "# Ignore notice, since we don't use it for analysing the data\n",
    "text = text[81:]"
   ]
  },
  {
   "cell_type": "markdown",
   "metadata": {
    "colab_type": "text",
    "deletable": true,
    "editable": true,
    "id": "6nu8I94DJd1G"
   },
   "source": [
    "## Explore the Data\n",
    "Play around with `view_sentence_range` to view different parts of the data."
   ]
  },
  {
   "cell_type": "code",
   "execution_count": 5,
   "metadata": {
    "colab": {
     "autoexec": {
      "startup": false,
      "wait_interval": 0
     },
     "base_uri": "https://localhost:8080/",
     "height": 349,
     "output_extras": [
      {
       "item_id": 1
      }
     ]
    },
    "colab_type": "code",
    "collapsed": false,
    "deletable": true,
    "editable": true,
    "executionInfo": {
     "elapsed": 286,
     "status": "ok",
     "timestamp": 1517948582187,
     "user": {
      "displayName": "Shubham Bhardwaj",
      "photoUrl": "//lh6.googleusercontent.com/-BXhAm93uluk/AAAAAAAAAAI/AAAAAAAAANo/jBS0PHEW1zo/s50-c-k-no/photo.jpg",
      "userId": "100068402576845994769"
     },
     "user_tz": 300
    },
    "id": "lRvz6mnsJd1H",
    "outputId": "097ee579-326c-45b9-f39d-ac4486092250"
   },
   "outputs": [
    {
     "name": "stdout",
     "output_type": "stream",
     "text": [
      "Dataset Stats\n",
      "Roughly the number of unique words: 11492\n",
      "Number of scenes: 262\n",
      "Average number of sentences in each scene: 15.248091603053435\n",
      "Number of lines: 4257\n",
      "Average number of words in each line: 11.50434578341555\n",
      "\n",
      "The sentences 0 to 10:\n",
      "Moe_Szyslak: (INTO PHONE) Moe's Tavern. Where the elite meet to drink.\n",
      "Bart_Simpson: Eh, yeah, hello, is Mike there? Last name, Rotch.\n",
      "Moe_Szyslak: (INTO PHONE) Hold on, I'll check. (TO BARFLIES) Mike Rotch. Mike Rotch. Hey, has anybody seen Mike Rotch, lately?\n",
      "Moe_Szyslak: (INTO PHONE) Listen you little puke. One of these days I'm gonna catch you, and I'm gonna carve my name on your back with an ice pick.\n",
      "Moe_Szyslak: What's the matter Homer? You're not your normal effervescent self.\n",
      "Homer_Simpson: I got my problems, Moe. Give me another one.\n",
      "Moe_Szyslak: Homer, hey, you should not drink to forget your problems.\n",
      "Barney_Gumble: Yeah, you should only drink to enhance your social skills.\n",
      "\n",
      "\n"
     ]
    }
   ],
   "source": [
    "view_sentence_range = (0, 10)\n",
    "\n",
    "\"\"\"\n",
    "DON'T MODIFY ANYTHING IN THIS CELL\n",
    "\"\"\"\n",
    "import numpy as np\n",
    "\n",
    "print('Dataset Stats')\n",
    "print('Roughly the number of unique words: {}'.format(len({word: None for word in text.split()})))\n",
    "scenes = text.split('\\n\\n')\n",
    "print('Number of scenes: {}'.format(len(scenes)))\n",
    "sentence_count_scene = [scene.count('\\n') for scene in scenes]\n",
    "print('Average number of sentences in each scene: {}'.format(np.average(sentence_count_scene)))\n",
    "\n",
    "sentences = [sentence for scene in scenes for sentence in scene.split('\\n')]\n",
    "print('Number of lines: {}'.format(len(sentences)))\n",
    "word_count_sentence = [len(sentence.split()) for sentence in sentences]\n",
    "print('Average number of words in each line: {}'.format(np.average(word_count_sentence)))\n",
    "\n",
    "print()\n",
    "print('The sentences {} to {}:'.format(*view_sentence_range))\n",
    "print('\\n'.join(text.split('\\n')[view_sentence_range[0]:view_sentence_range[1]]))"
   ]
  },
  {
   "cell_type": "markdown",
   "metadata": {
    "colab_type": "text",
    "deletable": true,
    "editable": true,
    "id": "ZzncbwJUJd1M"
   },
   "source": [
    "## Implement Preprocessing Functions\n",
    "The first thing to do to any dataset is preprocessing.  Implement the following preprocessing functions below:\n",
    "- Lookup Table\n",
    "- Tokenize Punctuation\n",
    "\n",
    "### Lookup Table\n",
    "To create a word embedding, you first need to transform the words to ids.  In this function, create two dictionaries:\n",
    "- Dictionary to go from the words to an id, we'll call `vocab_to_int`\n",
    "- Dictionary to go from the id to word, we'll call `int_to_vocab`\n",
    "\n",
    "Return these dictionaries in the following tuple `(vocab_to_int, int_to_vocab)`"
   ]
  },
  {
   "cell_type": "code",
   "execution_count": 6,
   "metadata": {
    "colab": {
     "autoexec": {
      "startup": false,
      "wait_interval": 0
     },
     "base_uri": "https://localhost:8080/",
     "height": 34,
     "output_extras": [
      {
       "item_id": 1
      }
     ]
    },
    "colab_type": "code",
    "collapsed": false,
    "deletable": true,
    "editable": true,
    "executionInfo": {
     "elapsed": 4221,
     "status": "ok",
     "timestamp": 1517948592353,
     "user": {
      "displayName": "Shubham Bhardwaj",
      "photoUrl": "//lh6.googleusercontent.com/-BXhAm93uluk/AAAAAAAAAAI/AAAAAAAAANo/jBS0PHEW1zo/s50-c-k-no/photo.jpg",
      "userId": "100068402576845994769"
     },
     "user_tz": 300
    },
    "id": "pvGBk093Jd1N",
    "outputId": "a19d6d56-1351-4302-a52b-0472fa7a0e85"
   },
   "outputs": [
    {
     "name": "stdout",
     "output_type": "stream",
     "text": [
      "Tests Passed\n"
     ]
    }
   ],
   "source": [
    "import numpy as np\n",
    "import problem_unittests as tests\n",
    "\n",
    "def create_lookup_tables(text):\n",
    "    \"\"\"\n",
    "    Create lookup tables for vocabulary\n",
    "    :param text: The text of tv scripts split into words\n",
    "    :return: A tuple of dicts (vocab_to_int, int_to_vocab)\n",
    "    \"\"\"\n",
    "    words = set(text)\n",
    "    vocab_to_int = {c: i for i, c in enumerate(words)}\n",
    "    int_to_vocab = dict(enumerate(words))\n",
    "    \n",
    "    return vocab_to_int, int_to_vocab\n",
    "\n",
    "\n",
    "\"\"\"\n",
    "DON'T MODIFY ANYTHING IN THIS CELL THAT IS BELOW THIS LINE\n",
    "\"\"\"\n",
    "tests.test_create_lookup_tables(create_lookup_tables)"
   ]
  },
  {
   "cell_type": "markdown",
   "metadata": {
    "colab_type": "text",
    "deletable": true,
    "editable": true,
    "id": "K-FOuio7Jd1Q"
   },
   "source": [
    "### Tokenize Punctuation\n",
    "We'll be splitting the script into a word array using spaces as delimiters.  However, punctuations like periods and exclamation marks make it hard for the neural network to distinguish between the word \"bye\" and \"bye!\".\n",
    "\n",
    "Implement the function `token_lookup` to return a dict that will be used to tokenize symbols like \"!\" into \"||Exclamation_Mark||\".  Create a dictionary for the following symbols where the symbol is the key and value is the token:\n",
    "- Period ( . )\n",
    "- Comma ( , )\n",
    "- Quotation Mark ( \" )\n",
    "- Semicolon ( ; )\n",
    "- Exclamation mark ( ! )\n",
    "- Question mark ( ? )\n",
    "- Left Parentheses ( ( )\n",
    "- Right Parentheses ( ) )\n",
    "- Dash ( -- )\n",
    "- Return ( \\n )\n",
    "\n",
    "This dictionary will be used to token the symbols and add the delimiter (space) around it.  This separates the symbols as it's own word, making it easier for the neural network to predict on the next word. Make sure you don't use a token that could be confused as a word. Instead of using the token \"dash\", try using something like \"||dash||\"."
   ]
  },
  {
   "cell_type": "code",
   "execution_count": 7,
   "metadata": {
    "colab": {
     "autoexec": {
      "startup": false,
      "wait_interval": 0
     },
     "base_uri": "https://localhost:8080/",
     "height": 34,
     "output_extras": [
      {
       "item_id": 1
      }
     ]
    },
    "colab_type": "code",
    "collapsed": false,
    "deletable": true,
    "editable": true,
    "executionInfo": {
     "elapsed": 300,
     "status": "ok",
     "timestamp": 1517948596543,
     "user": {
      "displayName": "Shubham Bhardwaj",
      "photoUrl": "//lh6.googleusercontent.com/-BXhAm93uluk/AAAAAAAAAAI/AAAAAAAAANo/jBS0PHEW1zo/s50-c-k-no/photo.jpg",
      "userId": "100068402576845994769"
     },
     "user_tz": 300
    },
    "id": "foNypqO8Jd1R",
    "outputId": "94c1cf60-cd84-40d8-99f9-ae292f8832a0"
   },
   "outputs": [
    {
     "name": "stdout",
     "output_type": "stream",
     "text": [
      "Tests Passed\n"
     ]
    }
   ],
   "source": [
    "def token_lookup():\n",
    "    \"\"\"\n",
    "    Generate a dict to turn punctuation into a token.\n",
    "    :return: Tokenize dictionary where the key is the punctuation and the value is the token\n",
    "    \"\"\"\n",
    "    return {\n",
    "        '.': '||Period||',\n",
    "        ',': '||Comma||',\n",
    "        '\"': '||Quotation||',\n",
    "        ';': '||Semicolon||',\n",
    "        '!': '||Exclamation||',\n",
    "        '?': '||Question||',\n",
    "        '(': '||Left||',\n",
    "        ')': '||Right||',\n",
    "        '--': '||Dash||',\n",
    "        '\\n': '||Return||'\n",
    "    }\n",
    "\n",
    "\"\"\"\n",
    "DON'T MODIFY ANYTHING IN THIS CELL THAT IS BELOW THIS LINE\n",
    "\"\"\"\n",
    "tests.test_tokenize(token_lookup)"
   ]
  },
  {
   "cell_type": "markdown",
   "metadata": {
    "colab_type": "text",
    "deletable": true,
    "editable": true,
    "id": "NRBc3aIRJd1U"
   },
   "source": [
    "## Preprocess all the data and save it\n",
    "Running the code cell below will preprocess all the data and save it to file."
   ]
  },
  {
   "cell_type": "code",
   "execution_count": 0,
   "metadata": {
    "colab": {
     "autoexec": {
      "startup": false,
      "wait_interval": 0
     }
    },
    "colab_type": "code",
    "collapsed": true,
    "deletable": true,
    "editable": true,
    "id": "UcsWWt8kJd1V"
   },
   "outputs": [],
   "source": [
    "\"\"\"\n",
    "DON'T MODIFY ANYTHING IN THIS CELL\n",
    "\"\"\"\n",
    "# Preprocess Training, Validation, and Testing Data\n",
    "helper.preprocess_and_save_data(data_dir, token_lookup, create_lookup_tables)"
   ]
  },
  {
   "cell_type": "markdown",
   "metadata": {
    "colab_type": "text",
    "deletable": true,
    "editable": true,
    "id": "TfC4y9WfJd1X"
   },
   "source": [
    "# Check Point\n",
    "This is your first checkpoint. If you ever decide to come back to this notebook or have to restart the notebook, you can start from here. The preprocessed data has been saved to disk."
   ]
  },
  {
   "cell_type": "code",
   "execution_count": 0,
   "metadata": {
    "colab": {
     "autoexec": {
      "startup": false,
      "wait_interval": 0
     }
    },
    "colab_type": "code",
    "collapsed": true,
    "deletable": true,
    "editable": true,
    "id": "lF0I-JFoJd1Y"
   },
   "outputs": [],
   "source": [
    "\"\"\"\n",
    "DON'T MODIFY ANYTHING IN THIS CELL\n",
    "\"\"\"\n",
    "import helper\n",
    "import numpy as np\n",
    "import problem_unittests as tests\n",
    "\n",
    "int_text, vocab_to_int, int_to_vocab, token_dict = helper.load_preprocess()"
   ]
  },
  {
   "cell_type": "markdown",
   "metadata": {
    "colab_type": "text",
    "deletable": true,
    "editable": true,
    "id": "w1z7xjiZJd1a"
   },
   "source": [
    "## Build the Neural Network\n",
    "You'll build the components necessary to build a RNN by implementing the following functions below:\n",
    "- get_inputs\n",
    "- get_init_cell\n",
    "- get_embed\n",
    "- build_rnn\n",
    "- build_nn\n",
    "- get_batches\n",
    "\n",
    "### Check the Version of TensorFlow and Access to GPU"
   ]
  },
  {
   "cell_type": "code",
   "execution_count": 5,
   "metadata": {
    "colab": {
     "autoexec": {
      "startup": false,
      "wait_interval": 0
     },
     "base_uri": "https://localhost:8080/",
     "height": 52,
     "output_extras": [
      {
       "item_id": 1
      }
     ]
    },
    "colab_type": "code",
    "collapsed": false,
    "deletable": true,
    "editable": true,
    "executionInfo": {
     "elapsed": 275,
     "status": "ok",
     "timestamp": 1517948657187,
     "user": {
      "displayName": "Shubham Bhardwaj",
      "photoUrl": "//lh6.googleusercontent.com/-BXhAm93uluk/AAAAAAAAAAI/AAAAAAAAANo/jBS0PHEW1zo/s50-c-k-no/photo.jpg",
      "userId": "100068402576845994769"
     },
     "user_tz": 300
    },
    "id": "wD1gr0OSJd1c",
    "outputId": "30e809fb-a412-48a5-ce47-1d204869979b"
   },
   "outputs": [
    {
     "name": "stdout",
     "output_type": "stream",
     "text": [
      "TensorFlow Version: 1.0.0\n",
      "Default GPU Device: /gpu:0\n"
     ]
    }
   ],
   "source": [
    "\"\"\"\n",
    "DON'T MODIFY ANYTHING IN THIS CELL\n",
    "\"\"\"\n",
    "from distutils.version import LooseVersion\n",
    "import warnings\n",
    "import tensorflow as tf\n",
    "\n",
    "# Check TensorFlow Version\n",
    "assert LooseVersion(tf.__version__) >= LooseVersion('1.0'), 'Please use TensorFlow version 1.0 or newer'\n",
    "print('TensorFlow Version: {}'.format(tf.__version__))\n",
    "\n",
    "# Check for a GPU\n",
    "if not tf.test.gpu_device_name():\n",
    "    warnings.warn('No GPU found. Please use a GPU to train your neural network.')\n",
    "else:\n",
    "    print('Default GPU Device: {}'.format(tf.test.gpu_device_name()))"
   ]
  },
  {
   "cell_type": "markdown",
   "metadata": {
    "colab_type": "text",
    "deletable": true,
    "editable": true,
    "id": "HiPWDoe2Jd1e"
   },
   "source": [
    "### Input\n",
    "Implement the `get_inputs()` function to create TF Placeholders for the Neural Network.  It should create the following placeholders:\n",
    "- Input text placeholder named \"input\" using the [TF Placeholder](https://www.tensorflow.org/api_docs/python/tf/placeholder) `name` parameter.\n",
    "- Targets placeholder\n",
    "- Learning Rate placeholder\n",
    "\n",
    "Return the placeholders in the following tuple `(Input, Targets, LearningRate)`"
   ]
  },
  {
   "cell_type": "code",
   "execution_count": 6,
   "metadata": {
    "colab": {
     "autoexec": {
      "startup": false,
      "wait_interval": 0
     },
     "base_uri": "https://localhost:8080/",
     "height": 34,
     "output_extras": [
      {
       "item_id": 1
      }
     ]
    },
    "colab_type": "code",
    "collapsed": false,
    "deletable": true,
    "editable": true,
    "executionInfo": {
     "elapsed": 267,
     "status": "ok",
     "timestamp": 1517948659924,
     "user": {
      "displayName": "Shubham Bhardwaj",
      "photoUrl": "//lh6.googleusercontent.com/-BXhAm93uluk/AAAAAAAAAAI/AAAAAAAAANo/jBS0PHEW1zo/s50-c-k-no/photo.jpg",
      "userId": "100068402576845994769"
     },
     "user_tz": 300
    },
    "id": "fTnIEtW9Jd1f",
    "outputId": "2fc2cce6-7523-4909-9bcf-29f172a581b3"
   },
   "outputs": [
    {
     "name": "stdout",
     "output_type": "stream",
     "text": [
      "Tests Passed\n"
     ]
    }
   ],
   "source": [
    "def get_inputs():\n",
    "    \"\"\"\n",
    "    Create TF Placeholders for input, targets, and learning rate.\n",
    "    :return: Tuple (input, targets, learning rate)\n",
    "    \"\"\"\n",
    "    Input = tf.placeholder(tf.int32, [None, None], name='input')\n",
    "    targets = tf.placeholder(tf.int32, [None, None], name='targets')\n",
    "    learning_rate = tf.placeholder(tf.float32, name=\"learning_rate\")\n",
    "    return Input, targets, learning_rate\n",
    "\n",
    "\n",
    "\"\"\"\n",
    "DON'T MODIFY ANYTHING IN THIS CELL THAT IS BELOW THIS LINE\n",
    "\"\"\"\n",
    "tests.test_get_inputs(get_inputs)"
   ]
  },
  {
   "cell_type": "markdown",
   "metadata": {
    "colab_type": "text",
    "deletable": true,
    "editable": true,
    "id": "ge7YCeLTJd1j"
   },
   "source": [
    "### Build RNN Cell and Initialize\n",
    "Stack one or more [`BasicLSTMCells`](https://www.tensorflow.org/api_docs/python/tf/contrib/rnn/BasicLSTMCell) in a [`MultiRNNCell`](https://www.tensorflow.org/api_docs/python/tf/contrib/rnn/MultiRNNCell).\n",
    "- The Rnn size should be set using `rnn_size`\n",
    "- Initalize Cell State using the MultiRNNCell's [`zero_state()`](https://www.tensorflow.org/api_docs/python/tf/contrib/rnn/MultiRNNCell#zero_state) function\n",
    "    - Apply the name \"initial_state\" to the initial state using [`tf.identity()`](https://www.tensorflow.org/api_docs/python/tf/identity)\n",
    "\n",
    "Return the cell and initial state in the following tuple `(Cell, InitialState)`"
   ]
  },
  {
   "cell_type": "code",
   "execution_count": 7,
   "metadata": {
    "colab": {
     "autoexec": {
      "startup": false,
      "wait_interval": 0
     },
     "base_uri": "https://localhost:8080/",
     "height": 34,
     "output_extras": [
      {
       "item_id": 1
      }
     ]
    },
    "colab_type": "code",
    "collapsed": false,
    "deletable": true,
    "editable": true,
    "executionInfo": {
     "elapsed": 265,
     "status": "ok",
     "timestamp": 1517948662110,
     "user": {
      "displayName": "Shubham Bhardwaj",
      "photoUrl": "//lh6.googleusercontent.com/-BXhAm93uluk/AAAAAAAAAAI/AAAAAAAAANo/jBS0PHEW1zo/s50-c-k-no/photo.jpg",
      "userId": "100068402576845994769"
     },
     "user_tz": 300
    },
    "id": "yaqkHUMoJd1l",
    "outputId": "d72db9fa-e19f-4114-8c25-f24465c9a7cc"
   },
   "outputs": [
    {
     "name": "stdout",
     "output_type": "stream",
     "text": [
      "Tests Passed\n"
     ]
    }
   ],
   "source": [
    "def get_init_cell(batch_size, rnn_size):\n",
    "    \"\"\"\n",
    "    Create an RNN Cell and initialize it.\n",
    "    :param batch_size: Size of batches\n",
    "    :param rnn_size: Size of RNNs\n",
    "    :return: Tuple (cell, initialize state)\n",
    "    \"\"\"\n",
    "    cell = tf.contrib.rnn.MultiRNNCell([tf.contrib.rnn.DropoutWrapper( tf.contrib.rnn.BasicLSTMCell(rnn_size), output_keep_prob = 0.5)])\n",
    "    initialize_state = tf.identity(cell.zero_state(batch_size, tf.float32), name='initial_state')\n",
    "    return cell, initialize_state\n",
    "\n",
    "\n",
    "\"\"\"\n",
    "DON'T MODIFY ANYTHING IN THIS CELL THAT IS BELOW THIS LINE\n",
    "\"\"\"\n",
    "tests.test_get_init_cell(get_init_cell)"
   ]
  },
  {
   "cell_type": "markdown",
   "metadata": {
    "colab_type": "text",
    "deletable": true,
    "editable": true,
    "id": "OIK2dLawJd1n"
   },
   "source": [
    "### Word Embedding\n",
    "Apply embedding to `input_data` using TensorFlow.  Return the embedded sequence."
   ]
  },
  {
   "cell_type": "code",
   "execution_count": 8,
   "metadata": {
    "colab": {
     "autoexec": {
      "startup": false,
      "wait_interval": 0
     },
     "base_uri": "https://localhost:8080/",
     "height": 34,
     "output_extras": [
      {
       "item_id": 1
      }
     ]
    },
    "colab_type": "code",
    "collapsed": false,
    "deletable": true,
    "editable": true,
    "executionInfo": {
     "elapsed": 254,
     "status": "ok",
     "timestamp": 1517948664550,
     "user": {
      "displayName": "Shubham Bhardwaj",
      "photoUrl": "//lh6.googleusercontent.com/-BXhAm93uluk/AAAAAAAAAAI/AAAAAAAAANo/jBS0PHEW1zo/s50-c-k-no/photo.jpg",
      "userId": "100068402576845994769"
     },
     "user_tz": 300
    },
    "id": "iruqPVUAJd1o",
    "outputId": "157c7b51-efe3-41cd-a68e-ae6a28f9b412"
   },
   "outputs": [
    {
     "name": "stdout",
     "output_type": "stream",
     "text": [
      "Tests Passed\n"
     ]
    }
   ],
   "source": [
    "def get_embed(input_data, vocab_size, embed_dim):\n",
    "    \"\"\"\n",
    "    Create embedding for <input_data>.\n",
    "    :param input_data: TF placeholder for text input.\n",
    "    :param vocab_size: Number of words in vocabulary.\n",
    "    :param embed_dim: Number of embedding dimensions\n",
    "    :return: Embedded input.\n",
    "    \"\"\"\n",
    "    embed = tf.nn.embedding_lookup(tf.Variable(tf.random_uniform((vocab_size, embed_dim), -1, 1)), input_data)\n",
    "    \n",
    "    return embed\n",
    "\n",
    "\n",
    "\"\"\"\n",
    "DON'T MODIFY ANYTHING IN THIS CELL THAT IS BELOW THIS LINE\n",
    "\"\"\"\n",
    "tests.test_get_embed(get_embed)"
   ]
  },
  {
   "cell_type": "markdown",
   "metadata": {
    "colab_type": "text",
    "deletable": true,
    "editable": true,
    "id": "ZOJ-rBoRJd1p"
   },
   "source": [
    "### Build RNN\n",
    "You created a RNN Cell in the `get_init_cell()` function.  Time to use the cell to create a RNN.\n",
    "- Build the RNN using the [`tf.nn.dynamic_rnn()`](https://www.tensorflow.org/api_docs/python/tf/nn/dynamic_rnn)\n",
    " - Apply the name \"final_state\" to the final state using [`tf.identity()`](https://www.tensorflow.org/api_docs/python/tf/identity)\n",
    "\n",
    "Return the outputs and final_state state in the following tuple `(Outputs, FinalState)` "
   ]
  },
  {
   "cell_type": "code",
   "execution_count": 9,
   "metadata": {
    "colab": {
     "autoexec": {
      "startup": false,
      "wait_interval": 0
     },
     "base_uri": "https://localhost:8080/",
     "height": 34,
     "output_extras": [
      {
       "item_id": 1
      }
     ]
    },
    "colab_type": "code",
    "collapsed": false,
    "deletable": true,
    "editable": true,
    "executionInfo": {
     "elapsed": 251,
     "status": "ok",
     "timestamp": 1517948668024,
     "user": {
      "displayName": "Shubham Bhardwaj",
      "photoUrl": "//lh6.googleusercontent.com/-BXhAm93uluk/AAAAAAAAAAI/AAAAAAAAANo/jBS0PHEW1zo/s50-c-k-no/photo.jpg",
      "userId": "100068402576845994769"
     },
     "user_tz": 300
    },
    "id": "ZlYUiT3WJd1r",
    "outputId": "5f0dfc96-fa82-4186-fa3c-1670e4961bf8"
   },
   "outputs": [
    {
     "name": "stdout",
     "output_type": "stream",
     "text": [
      "Tests Passed\n"
     ]
    }
   ],
   "source": [
    "def build_rnn(cell, inputs):\n",
    "    \"\"\"\n",
    "    Create a RNN using a RNN Cell\n",
    "    :param cell: RNN Cell\n",
    "    :param inputs: Input text data\n",
    "    :return: Tuple (Outputs, Final State)\n",
    "    \"\"\"\n",
    "    outputs, Final_State = tf.nn.dynamic_rnn(cell, inputs, dtype=tf.float32)\n",
    "    Final_State = tf.identity(Final_State, \"final_state\")\n",
    "    return outputs, Final_State\n",
    "\n",
    "\n",
    "\"\"\"\n",
    "DON'T MODIFY ANYTHING IN THIS CELL THAT IS BELOW THIS LINE\n",
    "\"\"\"\n",
    "tests.test_build_rnn(build_rnn)"
   ]
  },
  {
   "cell_type": "markdown",
   "metadata": {
    "colab_type": "text",
    "deletable": true,
    "editable": true,
    "id": "yg1ZOMvnJd1s"
   },
   "source": [
    "### Build the Neural Network\n",
    "Apply the functions you implemented above to:\n",
    "- Apply embedding to `input_data` using your `get_embed(input_data, vocab_size, embed_dim)` function.\n",
    "- Build RNN using `cell` and your `build_rnn(cell, inputs)` function.\n",
    "- Apply a fully connected layer with a linear activation and `vocab_size` as the number of outputs.\n",
    "\n",
    "Return the logits and final state in the following tuple (Logits, FinalState) "
   ]
  },
  {
   "cell_type": "code",
   "execution_count": 10,
   "metadata": {
    "colab": {
     "autoexec": {
      "startup": false,
      "wait_interval": 0
     },
     "base_uri": "https://localhost:8080/",
     "height": 34,
     "output_extras": [
      {
       "item_id": 1
      }
     ]
    },
    "colab_type": "code",
    "collapsed": false,
    "deletable": true,
    "editable": true,
    "executionInfo": {
     "elapsed": 370,
     "status": "ok",
     "timestamp": 1517948670670,
     "user": {
      "displayName": "Shubham Bhardwaj",
      "photoUrl": "//lh6.googleusercontent.com/-BXhAm93uluk/AAAAAAAAAAI/AAAAAAAAANo/jBS0PHEW1zo/s50-c-k-no/photo.jpg",
      "userId": "100068402576845994769"
     },
     "user_tz": 300
    },
    "id": "UdQxhPatJd1u",
    "outputId": "fa9584cc-0a3d-479a-d49b-bd3cfe9610f4"
   },
   "outputs": [
    {
     "name": "stdout",
     "output_type": "stream",
     "text": [
      "Tests Passed\n"
     ]
    }
   ],
   "source": [
    "def build_nn(cell, rnn_size, input_data, vocab_size, embed_dim):\n",
    "    \"\"\"\n",
    "    Build part of the neural network\n",
    "    :param cell: RNN cell\n",
    "    :param rnn_size: Size of rnns\n",
    "    :param input_data: Input data\n",
    "    :param vocab_size: Vocabulary size\n",
    "    :param embed_dim: Number of embedding dimensions\n",
    "    :return: Tuple (Logits, FinalState)\n",
    "    \"\"\"\n",
    "    embeds = get_embed(input_data, vocab_size, rnn_size)\n",
    "    outputs, FinalState = build_rnn(cell, embeds)\n",
    "    Logits = tf.contrib.layers.fully_connected(outputs, vocab_size, activation_fn=None)\n",
    "    return Logits, FinalState\n",
    "\n",
    "\n",
    "\"\"\"\n",
    "DON'T MODIFY ANYTHING IN THIS CELL THAT IS BELOW THIS LINE\n",
    "\"\"\"\n",
    "tests.test_build_nn(build_nn)"
   ]
  },
  {
   "cell_type": "markdown",
   "metadata": {
    "colab_type": "text",
    "deletable": true,
    "editable": true,
    "id": "uJ9GcUorJd10"
   },
   "source": [
    "### Batches\n",
    "Implement `get_batches` to create batches of input and targets using `int_text`.  The batches should be a Numpy array with the shape `(number of batches, 2, batch size, sequence length)`. Each batch contains two elements:\n",
    "- The first element is a single batch of **input** with the shape `[batch size, sequence length]`\n",
    "- The second element is a single batch of **targets** with the shape `[batch size, sequence length]`\n",
    "\n",
    "If you can't fill the last batch with enough data, drop the last batch.\n",
    "\n",
    "For exmple, `get_batches([1, 2, 3, 4, 5, 6, 7, 8, 9, 10, 11, 12, 13, 14, 15, 16, 17, 18, 19, 20], 3, 2)` would return a Numpy array of the following:\n",
    "```\n",
    "[\n",
    "  # First Batch\n",
    "  [\n",
    "    # Batch of Input\n",
    "    [[ 1  2], [ 7  8], [13 14]]\n",
    "    # Batch of targets\n",
    "    [[ 2  3], [ 8  9], [14 15]]\n",
    "  ]\n",
    "\n",
    "  # Second Batch\n",
    "  [\n",
    "    # Batch of Input\n",
    "    [[ 3  4], [ 9 10], [15 16]]\n",
    "    # Batch of targets\n",
    "    [[ 4  5], [10 11], [16 17]]\n",
    "  ]\n",
    "\n",
    "  # Third Batch\n",
    "  [\n",
    "    # Batch of Input\n",
    "    [[ 5  6], [11 12], [17 18]]\n",
    "    # Batch of targets\n",
    "    [[ 6  7], [12 13], [18  1]]\n",
    "  ]\n",
    "]\n",
    "```\n",
    "\n",
    "Notice that the last target value in the last batch is the first input value of the first batch. In this case, `1`. This is a common technique used when creating sequence batches, although it is rather unintuitive."
   ]
  },
  {
   "cell_type": "code",
   "execution_count": 11,
   "metadata": {
    "colab": {
     "autoexec": {
      "startup": false,
      "wait_interval": 0
     },
     "base_uri": "https://localhost:8080/",
     "height": 34,
     "output_extras": [
      {
       "item_id": 1
      }
     ]
    },
    "colab_type": "code",
    "collapsed": false,
    "deletable": true,
    "editable": true,
    "executionInfo": {
     "elapsed": 255,
     "status": "ok",
     "timestamp": 1517948674427,
     "user": {
      "displayName": "Shubham Bhardwaj",
      "photoUrl": "//lh6.googleusercontent.com/-BXhAm93uluk/AAAAAAAAAAI/AAAAAAAAANo/jBS0PHEW1zo/s50-c-k-no/photo.jpg",
      "userId": "100068402576845994769"
     },
     "user_tz": 300
    },
    "id": "Ufo2RG4GJd10",
    "outputId": "f34e3081-232f-4fda-cb55-82d6824eb8d7"
   },
   "outputs": [
    {
     "name": "stdout",
     "output_type": "stream",
     "text": [
      "Tests Passed\n"
     ]
    }
   ],
   "source": [
    "def get_batches(int_text, batch_size, seq_length):\n",
    "    \"\"\"\n",
    "    Return batches of input and target\n",
    "    :param int_text: Text with the words replaced by their ids\n",
    "    :param batch_size: The size of batch\n",
    "    :param seq_length: The length of sequence\n",
    "    :return: Batches as a Numpy array\n",
    "    \"\"\"\n",
    "    number_of_batches = int(len(int_text) / (batch_size * seq_length))\n",
    "    x_input = np.array(int_text[: number_of_batches * batch_size * seq_length])\n",
    "    y_input = np.array(int_text[1: number_of_batches * batch_size * seq_length + 1])\n",
    "    \n",
    "    y_input[-1] = x_input[0]\n",
    "    \n",
    "    x = np.split(x_input.reshape(batch_size, -1), number_of_batches, 1)\n",
    "    y = np.split(y_input.reshape(batch_size, -1), number_of_batches, 1)\n",
    "    \n",
    "    output = np.array(list(zip(x, y)))\n",
    "    \n",
    "    return output\n",
    "\n",
    "\n",
    "\"\"\"\n",
    "DON'T MODIFY ANYTHING IN THIS CELL THAT IS BELOW THIS LINE\n",
    "\"\"\"\n",
    "tests.test_get_batches(get_batches)"
   ]
  },
  {
   "cell_type": "markdown",
   "metadata": {
    "colab_type": "text",
    "deletable": true,
    "editable": true,
    "id": "BNEmhLANJd14"
   },
   "source": [
    "## Neural Network Training\n",
    "### Hyperparameters\n",
    "Tune the following parameters:\n",
    "\n",
    "- Set `num_epochs` to the number of epochs.\n",
    "- Set `batch_size` to the batch size.\n",
    "- Set `rnn_size` to the size of the RNNs.\n",
    "- Set `embed_dim` to the size of the embedding.\n",
    "- Set `seq_length` to the length of sequence.\n",
    "- Set `learning_rate` to the learning rate.\n",
    "- Set `show_every_n_batches` to the number of batches the neural network should print progress."
   ]
  },
  {
   "cell_type": "code",
   "execution_count": 0,
   "metadata": {
    "colab": {
     "autoexec": {
      "startup": false,
      "wait_interval": 0
     }
    },
    "colab_type": "code",
    "collapsed": true,
    "deletable": true,
    "editable": true,
    "id": "xg0D6bfzJd14"
   },
   "outputs": [],
   "source": [
    "# Number of Epochs\n",
    "num_epochs = 200\n",
    "# Batch Size\n",
    "batch_size = 512\n",
    "# RNN Size\n",
    "rnn_size = 1024\n",
    "# Embedding Dimension Size\n",
    "embed_dim = 128\n",
    "# Sequence Length\n",
    "seq_length = 24\n",
    "# Learning Rate\n",
    "learning_rate = 0.01\n",
    "# Show stats for every n number of batches\n",
    "show_every_n_batches = 5\n",
    "\n",
    "\"\"\"\n",
    "DON'T MODIFY ANYTHING IN THIS CELL THAT IS BELOW THIS LINE\n",
    "\"\"\"\n",
    "save_dir = './save'"
   ]
  },
  {
   "cell_type": "markdown",
   "metadata": {
    "colab_type": "text",
    "deletable": true,
    "editable": true,
    "id": "8d0uzmTcJd17"
   },
   "source": [
    "### Build the Graph\n",
    "Build the graph using the neural network you implemented."
   ]
  },
  {
   "cell_type": "code",
   "execution_count": 0,
   "metadata": {
    "colab": {
     "autoexec": {
      "startup": false,
      "wait_interval": 0
     }
    },
    "colab_type": "code",
    "collapsed": true,
    "deletable": true,
    "editable": true,
    "id": "EKjoy8FeJd18"
   },
   "outputs": [],
   "source": [
    "\"\"\"\n",
    "DON'T MODIFY ANYTHING IN THIS CELL\n",
    "\"\"\"\n",
    "from tensorflow.contrib import seq2seq\n",
    "\n",
    "train_graph = tf.Graph()\n",
    "with train_graph.as_default():\n",
    "    vocab_size = len(int_to_vocab)\n",
    "    input_text, targets, lr = get_inputs()\n",
    "    input_data_shape = tf.shape(input_text)\n",
    "    cell, initial_state = get_init_cell(input_data_shape[0], rnn_size)\n",
    "    logits, final_state = build_nn(cell, rnn_size, input_text, vocab_size, embed_dim)\n",
    "\n",
    "    # Probabilities for generating words\n",
    "    probs = tf.nn.softmax(logits, name='probs')\n",
    "\n",
    "    # Loss function\n",
    "    cost = seq2seq.sequence_loss(\n",
    "        logits,\n",
    "        targets,\n",
    "        tf.ones([input_data_shape[0], input_data_shape[1]]))\n",
    "\n",
    "    # Optimizer\n",
    "    optimizer = tf.train.AdamOptimizer(lr)\n",
    "\n",
    "    # Gradient Clipping\n",
    "    gradients = optimizer.compute_gradients(cost)\n",
    "    capped_gradients = [(tf.clip_by_value(grad, -1., 1.), var) for grad, var in gradients if grad is not None]\n",
    "    train_op = optimizer.apply_gradients(capped_gradients)"
   ]
  },
  {
   "cell_type": "markdown",
   "metadata": {
    "colab_type": "text",
    "deletable": true,
    "editable": true,
    "id": "NEyOCifFJd1-"
   },
   "source": [
    "## Train\n",
    "Train the neural network on the preprocessed data.  If you have a hard time getting a good loss, check the [forums](https://discussions.udacity.com/) to see if anyone is having the same problem."
   ]
  },
  {
   "cell_type": "code",
   "execution_count": 14,
   "metadata": {
    "colab": {
     "autoexec": {
      "startup": false,
      "wait_interval": 0
     },
     "base_uri": "https://localhost:8080/",
     "height": 3501,
     "output_extras": [
      {
       "item_id": 66
      },
      {
       "item_id": 132
      },
      {
       "item_id": 198
      },
      {
       "item_id": 201
      }
     ]
    },
    "colab_type": "code",
    "collapsed": false,
    "deletable": true,
    "editable": true,
    "executionInfo": {
     "elapsed": 765028,
     "status": "ok",
     "timestamp": 1517949453625,
     "user": {
      "displayName": "Shubham Bhardwaj",
      "photoUrl": "//lh6.googleusercontent.com/-BXhAm93uluk/AAAAAAAAAAI/AAAAAAAAANo/jBS0PHEW1zo/s50-c-k-no/photo.jpg",
      "userId": "100068402576845994769"
     },
     "user_tz": 300
    },
    "id": "jJm4BuMLJd1_",
    "outputId": "08f0d63b-e2ce-466e-a271-d5ad481942cb"
   },
   "outputs": [
    {
     "name": "stdout",
     "output_type": "stream",
     "text": [
      "Epoch   0 Batch    0/5   train_loss = 8.827\n",
      "Epoch   1 Batch    0/5   train_loss = 7.686\n",
      "Epoch   2 Batch    0/5   train_loss = 6.453\n",
      "Epoch   3 Batch    0/5   train_loss = 5.717\n",
      "Epoch   4 Batch    0/5   train_loss = 5.333\n",
      "Epoch   5 Batch    0/5   train_loss = 4.997\n",
      "Epoch   6 Batch    0/5   train_loss = 4.783\n",
      "Epoch   7 Batch    0/5   train_loss = 4.575\n",
      "Epoch   8 Batch    0/5   train_loss = 4.408\n",
      "Epoch   9 Batch    0/5   train_loss = 4.234\n",
      "Epoch  10 Batch    0/5   train_loss = 4.065\n",
      "Epoch  11 Batch    0/5   train_loss = 3.931\n",
      "Epoch  12 Batch    0/5   train_loss = 3.790\n",
      "Epoch  13 Batch    0/5   train_loss = 3.680\n",
      "Epoch  14 Batch    0/5   train_loss = 3.560\n",
      "Epoch  15 Batch    0/5   train_loss = 3.443\n",
      "Epoch  16 Batch    0/5   train_loss = 3.337\n",
      "Epoch  17 Batch    0/5   train_loss = 3.235\n",
      "Epoch  18 Batch    0/5   train_loss = 3.160\n",
      "Epoch  19 Batch    0/5   train_loss = 3.076\n",
      "Epoch  20 Batch    0/5   train_loss = 3.002\n",
      "Epoch  21 Batch    0/5   train_loss = 2.938\n",
      "Epoch  22 Batch    0/5   train_loss = 2.906\n",
      "Epoch  23 Batch    0/5   train_loss = 2.823\n",
      "Epoch  24 Batch    0/5   train_loss = 2.742\n",
      "Epoch  25 Batch    0/5   train_loss = 2.670\n",
      "Epoch  26 Batch    0/5   train_loss = 2.608\n",
      "Epoch  27 Batch    0/5   train_loss = 2.532\n",
      "Epoch  28 Batch    0/5   train_loss = 2.465\n",
      "Epoch  29 Batch    0/5   train_loss = 2.415\n",
      "Epoch  30 Batch    0/5   train_loss = 2.343\n",
      "Epoch  31 Batch    0/5   train_loss = 2.304\n",
      "Epoch  32 Batch    0/5   train_loss = 2.219\n",
      "Epoch  33 Batch    0/5   train_loss = 2.202\n",
      "Epoch  34 Batch    0/5   train_loss = 2.125\n",
      "Epoch  35 Batch    0/5   train_loss = 2.112\n",
      "Epoch  36 Batch    0/5   train_loss = 2.009\n",
      "Epoch  37 Batch    0/5   train_loss = 1.979\n",
      "Epoch  38 Batch    0/5   train_loss = 1.911\n",
      "Epoch  39 Batch    0/5   train_loss = 1.876\n",
      "Epoch  40 Batch    0/5   train_loss = 1.812\n",
      "Epoch  41 Batch    0/5   train_loss = 1.756\n",
      "Epoch  42 Batch    0/5   train_loss = 1.714\n",
      "Epoch  43 Batch    0/5   train_loss = 1.679\n",
      "Epoch  44 Batch    0/5   train_loss = 1.616\n",
      "Epoch  45 Batch    0/5   train_loss = 1.575\n",
      "Epoch  46 Batch    0/5   train_loss = 1.551\n",
      "Epoch  47 Batch    0/5   train_loss = 1.505\n",
      "Epoch  48 Batch    0/5   train_loss = 1.462\n",
      "Epoch  49 Batch    0/5   train_loss = 1.420\n",
      "Epoch  50 Batch    0/5   train_loss = 1.369\n",
      "Epoch  51 Batch    0/5   train_loss = 1.345\n",
      "Epoch  52 Batch    0/5   train_loss = 1.298\n",
      "Epoch  53 Batch    0/5   train_loss = 1.269\n",
      "Epoch  54 Batch    0/5   train_loss = 1.248\n",
      "Epoch  55 Batch    0/5   train_loss = 1.173\n",
      "Epoch  56 Batch    0/5   train_loss = 1.158\n",
      "Epoch  57 Batch    0/5   train_loss = 1.111\n",
      "Epoch  58 Batch    0/5   train_loss = 1.098\n",
      "Epoch  59 Batch    0/5   train_loss = 1.056\n",
      "Epoch  60 Batch    0/5   train_loss = 1.031\n",
      "Epoch  61 Batch    0/5   train_loss = 1.003\n",
      "Epoch  62 Batch    0/5   train_loss = 0.981\n",
      "Epoch  63 Batch    0/5   train_loss = 0.939\n",
      "Epoch  64 Batch    0/5   train_loss = 0.920\n",
      "Epoch  65 Batch    0/5   train_loss = 0.896\n",
      "Epoch  66 Batch    0/5   train_loss = 0.875\n",
      "Epoch  67 Batch    0/5   train_loss = 0.837\n",
      "Epoch  68 Batch    0/5   train_loss = 0.811\n",
      "Epoch  69 Batch    0/5   train_loss = 0.809\n",
      "Epoch  70 Batch    0/5   train_loss = 0.765\n",
      "Epoch  71 Batch    0/5   train_loss = 0.750\n",
      "Epoch  72 Batch    0/5   train_loss = 0.736\n",
      "Epoch  73 Batch    0/5   train_loss = 0.719\n",
      "Epoch  74 Batch    0/5   train_loss = 0.709\n",
      "Epoch  75 Batch    0/5   train_loss = 0.672\n",
      "Epoch  76 Batch    0/5   train_loss = 0.659\n",
      "Epoch  77 Batch    0/5   train_loss = 0.635\n",
      "Epoch  78 Batch    0/5   train_loss = 0.632\n",
      "Epoch  79 Batch    0/5   train_loss = 0.599\n",
      "Epoch  80 Batch    0/5   train_loss = 0.585\n",
      "Epoch  81 Batch    0/5   train_loss = 0.572\n",
      "Epoch  82 Batch    0/5   train_loss = 0.572\n",
      "Epoch  83 Batch    0/5   train_loss = 0.563\n",
      "Epoch  84 Batch    0/5   train_loss = 0.543\n",
      "Epoch  85 Batch    0/5   train_loss = 0.530\n",
      "Epoch  86 Batch    0/5   train_loss = 0.530\n",
      "Epoch  87 Batch    0/5   train_loss = 0.509\n",
      "Epoch  88 Batch    0/5   train_loss = 0.510\n",
      "Epoch  89 Batch    0/5   train_loss = 0.497\n",
      "Epoch  90 Batch    0/5   train_loss = 0.491\n",
      "Epoch  91 Batch    0/5   train_loss = 0.474\n",
      "Epoch  92 Batch    0/5   train_loss = 0.475\n",
      "Epoch  93 Batch    0/5   train_loss = 0.474\n",
      "Epoch  94 Batch    0/5   train_loss = 0.456\n",
      "Epoch  95 Batch    0/5   train_loss = 0.443\n",
      "Epoch  96 Batch    0/5   train_loss = 0.432\n",
      "Epoch  97 Batch    0/5   train_loss = 0.411\n",
      "Epoch  98 Batch    0/5   train_loss = 0.412\n",
      "Epoch  99 Batch    0/5   train_loss = 0.406\n",
      "Epoch 100 Batch    0/5   train_loss = 0.394\n",
      "Epoch 101 Batch    0/5   train_loss = 0.395\n",
      "Epoch 102 Batch    0/5   train_loss = 0.374\n",
      "Epoch 103 Batch    0/5   train_loss = 0.376\n",
      "Epoch 104 Batch    0/5   train_loss = 0.371\n",
      "Epoch 105 Batch    0/5   train_loss = 0.359\n",
      "Epoch 106 Batch    0/5   train_loss = 0.362\n",
      "Epoch 107 Batch    0/5   train_loss = 0.350\n",
      "Epoch 108 Batch    0/5   train_loss = 0.351\n",
      "Epoch 109 Batch    0/5   train_loss = 0.346\n",
      "Epoch 110 Batch    0/5   train_loss = 0.344\n",
      "Epoch 111 Batch    0/5   train_loss = 0.352\n",
      "Epoch 112 Batch    0/5   train_loss = 0.333\n",
      "Epoch 113 Batch    0/5   train_loss = 0.316\n",
      "Epoch 114 Batch    0/5   train_loss = 0.324\n",
      "Epoch 115 Batch    0/5   train_loss = 0.330\n",
      "Epoch 116 Batch    0/5   train_loss = 0.325\n",
      "Epoch 117 Batch    0/5   train_loss = 0.308\n",
      "Epoch 118 Batch    0/5   train_loss = 0.308\n",
      "Epoch 119 Batch    0/5   train_loss = 0.303\n",
      "Epoch 120 Batch    0/5   train_loss = 0.308\n",
      "Epoch 121 Batch    0/5   train_loss = 0.295\n",
      "Epoch 122 Batch    0/5   train_loss = 0.297\n",
      "Epoch 123 Batch    0/5   train_loss = 0.293\n",
      "Epoch 124 Batch    0/5   train_loss = 0.300\n",
      "Epoch 125 Batch    0/5   train_loss = 0.296\n",
      "Epoch 126 Batch    0/5   train_loss = 0.295\n",
      "Epoch 127 Batch    0/5   train_loss = 0.287\n",
      "Epoch 128 Batch    0/5   train_loss = 0.282\n",
      "Epoch 129 Batch    0/5   train_loss = 0.281\n",
      "Epoch 130 Batch    0/5   train_loss = 0.280\n",
      "Epoch 131 Batch    0/5   train_loss = 0.275\n",
      "Epoch 132 Batch    0/5   train_loss = 0.266\n",
      "Epoch 133 Batch    0/5   train_loss = 0.274\n",
      "Epoch 134 Batch    0/5   train_loss = 0.280\n",
      "Epoch 135 Batch    0/5   train_loss = 0.273\n",
      "Epoch 136 Batch    0/5   train_loss = 0.266\n",
      "Epoch 137 Batch    0/5   train_loss = 0.260\n",
      "Epoch 138 Batch    0/5   train_loss = 0.264\n",
      "Epoch 139 Batch    0/5   train_loss = 0.255\n",
      "Epoch 140 Batch    0/5   train_loss = 0.263\n",
      "Epoch 141 Batch    0/5   train_loss = 0.264\n",
      "Epoch 142 Batch    0/5   train_loss = 0.254\n",
      "Epoch 143 Batch    0/5   train_loss = 0.258\n",
      "Epoch 144 Batch    0/5   train_loss = 0.257\n",
      "Epoch 145 Batch    0/5   train_loss = 0.246\n",
      "Epoch 146 Batch    0/5   train_loss = 0.255\n",
      "Epoch 147 Batch    0/5   train_loss = 0.255\n",
      "Epoch 148 Batch    0/5   train_loss = 0.248\n",
      "Epoch 149 Batch    0/5   train_loss = 0.253\n",
      "Epoch 150 Batch    0/5   train_loss = 0.244\n",
      "Epoch 151 Batch    0/5   train_loss = 0.247\n",
      "Epoch 152 Batch    0/5   train_loss = 0.245\n",
      "Epoch 153 Batch    0/5   train_loss = 0.246\n",
      "Epoch 154 Batch    0/5   train_loss = 0.246\n",
      "Epoch 155 Batch    0/5   train_loss = 0.240\n",
      "Epoch 156 Batch    0/5   train_loss = 0.241\n",
      "Epoch 157 Batch    0/5   train_loss = 0.240\n",
      "Epoch 158 Batch    0/5   train_loss = 0.231\n",
      "Epoch 159 Batch    0/5   train_loss = 0.240\n",
      "Epoch 160 Batch    0/5   train_loss = 0.244\n",
      "Epoch 161 Batch    0/5   train_loss = 0.236\n",
      "Epoch 162 Batch    0/5   train_loss = 0.237\n",
      "Epoch 163 Batch    0/5   train_loss = 0.233\n",
      "Epoch 164 Batch    0/5   train_loss = 0.238\n",
      "Epoch 165 Batch    0/5   train_loss = 0.240\n",
      "Epoch 166 Batch    0/5   train_loss = 0.240\n",
      "Epoch 167 Batch    0/5   train_loss = 0.231\n",
      "Epoch 168 Batch    0/5   train_loss = 0.236\n",
      "Epoch 169 Batch    0/5   train_loss = 0.233\n",
      "Epoch 170 Batch    0/5   train_loss = 0.229\n",
      "Epoch 171 Batch    0/5   train_loss = 0.233\n",
      "Epoch 172 Batch    0/5   train_loss = 0.238\n",
      "Epoch 173 Batch    0/5   train_loss = 0.233\n",
      "Epoch 174 Batch    0/5   train_loss = 0.224\n",
      "Epoch 175 Batch    0/5   train_loss = 0.232\n",
      "Epoch 176 Batch    0/5   train_loss = 0.227\n",
      "Epoch 177 Batch    0/5   train_loss = 0.229\n",
      "Epoch 178 Batch    0/5   train_loss = 0.234\n",
      "Epoch 179 Batch    0/5   train_loss = 0.233\n",
      "Epoch 180 Batch    0/5   train_loss = 0.226\n",
      "Epoch 181 Batch    0/5   train_loss = 0.224\n",
      "Epoch 182 Batch    0/5   train_loss = 0.231\n",
      "Epoch 183 Batch    0/5   train_loss = 0.227\n",
      "Epoch 184 Batch    0/5   train_loss = 0.219\n",
      "Epoch 185 Batch    0/5   train_loss = 0.230\n",
      "Epoch 186 Batch    0/5   train_loss = 0.226\n",
      "Epoch 187 Batch    0/5   train_loss = 0.227\n",
      "Epoch 188 Batch    0/5   train_loss = 0.228\n",
      "Epoch 189 Batch    0/5   train_loss = 0.222\n",
      "Epoch 190 Batch    0/5   train_loss = 0.228\n",
      "Epoch 191 Batch    0/5   train_loss = 0.220\n",
      "Epoch 192 Batch    0/5   train_loss = 0.221\n",
      "Epoch 193 Batch    0/5   train_loss = 0.230\n",
      "Epoch 194 Batch    0/5   train_loss = 0.233\n",
      "Epoch 195 Batch    0/5   train_loss = 0.222\n",
      "Epoch 196 Batch    0/5   train_loss = 0.222\n",
      "Epoch 197 Batch    0/5   train_loss = 0.226\n",
      "Epoch 198 Batch    0/5   train_loss = 0.226\n",
      "Epoch 199 Batch    0/5   train_loss = 0.223\n",
      "Model Trained and Saved\n"
     ]
    }
   ],
   "source": [
    "\"\"\"\n",
    "DON'T MODIFY ANYTHING IN THIS CELL\n",
    "\"\"\"\n",
    "batches = get_batches(int_text, batch_size, seq_length)\n",
    "\n",
    "with tf.Session(graph=train_graph) as sess:\n",
    "    sess.run(tf.global_variables_initializer())\n",
    "\n",
    "    for epoch_i in range(num_epochs):\n",
    "        state = sess.run(initial_state, {input_text: batches[0][0]})\n",
    "\n",
    "        for batch_i, (x, y) in enumerate(batches):\n",
    "            feed = {\n",
    "                input_text: x,\n",
    "                targets: y,\n",
    "                initial_state: state,\n",
    "                lr: learning_rate}\n",
    "            train_loss, state, _ = sess.run([cost, final_state, train_op], feed)\n",
    "\n",
    "            # Show every <show_every_n_batches> batches\n",
    "            if (epoch_i * len(batches) + batch_i) % show_every_n_batches == 0:\n",
    "                print('Epoch {:>3} Batch {:>4}/{}   train_loss = {:.3f}'.format(\n",
    "                    epoch_i,\n",
    "                    batch_i,\n",
    "                    len(batches),\n",
    "                    train_loss))\n",
    "\n",
    "    # Save Model\n",
    "    saver = tf.train.Saver()\n",
    "    saver.save(sess, save_dir)\n",
    "    print('Model Trained and Saved')"
   ]
  },
  {
   "cell_type": "markdown",
   "metadata": {
    "colab_type": "text",
    "deletable": true,
    "editable": true,
    "id": "vbFaF3M8Jd2A"
   },
   "source": [
    "## Save Parameters\n",
    "Save `seq_length` and `save_dir` for generating a new TV script."
   ]
  },
  {
   "cell_type": "code",
   "execution_count": 0,
   "metadata": {
    "colab": {
     "autoexec": {
      "startup": false,
      "wait_interval": 0
     }
    },
    "colab_type": "code",
    "collapsed": true,
    "deletable": true,
    "editable": true,
    "id": "NFeY5DxyJd2B"
   },
   "outputs": [],
   "source": [
    "\"\"\"\n",
    "DON'T MODIFY ANYTHING IN THIS CELL\n",
    "\"\"\"\n",
    "# Save parameters for checkpoint\n",
    "helper.save_params((seq_length, save_dir))"
   ]
  },
  {
   "cell_type": "markdown",
   "metadata": {
    "colab_type": "text",
    "deletable": true,
    "editable": true,
    "id": "yLb1n8PNJd2D"
   },
   "source": [
    "# Checkpoint"
   ]
  },
  {
   "cell_type": "code",
   "execution_count": 0,
   "metadata": {
    "colab": {
     "autoexec": {
      "startup": false,
      "wait_interval": 0
     }
    },
    "colab_type": "code",
    "collapsed": true,
    "deletable": true,
    "editable": true,
    "id": "ZFv4nDZnJd2E"
   },
   "outputs": [],
   "source": [
    "\"\"\"\n",
    "DON'T MODIFY ANYTHING IN THIS CELL\n",
    "\"\"\"\n",
    "import tensorflow as tf\n",
    "import numpy as np\n",
    "import helper\n",
    "import problem_unittests as tests\n",
    "\n",
    "_, vocab_to_int, int_to_vocab, token_dict = helper.load_preprocess()\n",
    "seq_length, load_dir = helper.load_params()"
   ]
  },
  {
   "cell_type": "markdown",
   "metadata": {
    "colab_type": "text",
    "deletable": true,
    "editable": true,
    "id": "N1-nAk2IJd2G"
   },
   "source": [
    "## Implement Generate Functions\n",
    "### Get Tensors\n",
    "Get tensors from `loaded_graph` using the function [`get_tensor_by_name()`](https://www.tensorflow.org/api_docs/python/tf/Graph#get_tensor_by_name).  Get the tensors using the following names:\n",
    "- \"input:0\"\n",
    "- \"initial_state:0\"\n",
    "- \"final_state:0\"\n",
    "- \"probs:0\"\n",
    "\n",
    "Return the tensors in the following tuple `(InputTensor, InitialStateTensor, FinalStateTensor, ProbsTensor)` "
   ]
  },
  {
   "cell_type": "code",
   "execution_count": 17,
   "metadata": {
    "colab": {
     "autoexec": {
      "startup": false,
      "wait_interval": 0
     },
     "base_uri": "https://localhost:8080/",
     "height": 34,
     "output_extras": [
      {
       "item_id": 1
      }
     ]
    },
    "colab_type": "code",
    "collapsed": false,
    "deletable": true,
    "editable": true,
    "executionInfo": {
     "elapsed": 241,
     "status": "ok",
     "timestamp": 1517949522715,
     "user": {
      "displayName": "Shubham Bhardwaj",
      "photoUrl": "//lh6.googleusercontent.com/-BXhAm93uluk/AAAAAAAAAAI/AAAAAAAAANo/jBS0PHEW1zo/s50-c-k-no/photo.jpg",
      "userId": "100068402576845994769"
     },
     "user_tz": 300
    },
    "id": "bn3TS6zXJd2G",
    "outputId": "450fe602-fe70-4c58-afeb-4e1461bde532"
   },
   "outputs": [
    {
     "name": "stdout",
     "output_type": "stream",
     "text": [
      "Tests Passed\n"
     ]
    }
   ],
   "source": [
    "def get_tensors(loaded_graph):\n",
    "    \"\"\"\n",
    "    Get input, initial state, final state, and probabilities tensor from <loaded_graph>\n",
    "    :param loaded_graph: TensorFlow graph loaded from file\n",
    "    :return: Tuple (InputTensor, InitialStateTensor, FinalStateTensor, ProbsTensor)\n",
    "    \"\"\"\n",
    "    return loaded_graph.get_tensor_by_name(\"input:0\"), loaded_graph.get_tensor_by_name(\"initial_state:0\"), loaded_graph.get_tensor_by_name(\"final_state:0\"), loaded_graph.get_tensor_by_name(\"probs:0\")\n",
    "\n",
    "\n",
    "\"\"\"\n",
    "DON'T MODIFY ANYTHING IN THIS CELL THAT IS BELOW THIS LINE\n",
    "\"\"\"\n",
    "tests.test_get_tensors(get_tensors)"
   ]
  },
  {
   "cell_type": "markdown",
   "metadata": {
    "colab_type": "text",
    "deletable": true,
    "editable": true,
    "id": "3kMCngViJd2I"
   },
   "source": [
    "### Choose Word\n",
    "Implement the `pick_word()` function to select the next word using `probabilities`."
   ]
  },
  {
   "cell_type": "code",
   "execution_count": 18,
   "metadata": {
    "colab": {
     "autoexec": {
      "startup": false,
      "wait_interval": 0
     },
     "base_uri": "https://localhost:8080/",
     "height": 34,
     "output_extras": [
      {
       "item_id": 1
      }
     ]
    },
    "colab_type": "code",
    "collapsed": false,
    "deletable": true,
    "editable": true,
    "executionInfo": {
     "elapsed": 276,
     "status": "ok",
     "timestamp": 1517949656298,
     "user": {
      "displayName": "Shubham Bhardwaj",
      "photoUrl": "//lh6.googleusercontent.com/-BXhAm93uluk/AAAAAAAAAAI/AAAAAAAAANo/jBS0PHEW1zo/s50-c-k-no/photo.jpg",
      "userId": "100068402576845994769"
     },
     "user_tz": 300
    },
    "id": "Vwap-XNNJd2J",
    "outputId": "a1b3dcd3-59d9-4ba2-98fe-bfd334ce7ef9"
   },
   "outputs": [
    {
     "name": "stdout",
     "output_type": "stream",
     "text": [
      "Tests Passed\n"
     ]
    }
   ],
   "source": [
    "def pick_word(probabilities, int_to_vocab):\n",
    "    \"\"\"\n",
    "    Pick the next word in the generated text\n",
    "    :param probabilities: Probabilites of the next word\n",
    "    :param int_to_vocab: Dictionary of word ids as the keys and words as the values\n",
    "    :return: String of the predicted word\n",
    "    \"\"\"\n",
    "    return int_to_vocab[np.argmax(probabilities)]\n",
    "\n",
    "\n",
    "\"\"\"\n",
    "DON'T MODIFY ANYTHING IN THIS CELL THAT IS BELOW THIS LINE\n",
    "\"\"\"\n",
    "tests.test_pick_word(pick_word)"
   ]
  },
  {
   "cell_type": "markdown",
   "metadata": {
    "colab_type": "text",
    "deletable": true,
    "editable": true,
    "id": "WetjFybXJd2K"
   },
   "source": [
    "## Generate TV Script\n",
    "This will generate the TV script for you.  Set `gen_length` to the length of TV script you want to generate."
   ]
  },
  {
   "cell_type": "code",
   "execution_count": 19,
   "metadata": {
    "colab": {
     "autoexec": {
      "startup": false,
      "wait_interval": 0
     },
     "base_uri": "https://localhost:8080/",
     "height": 228,
     "output_extras": [
      {
       "item_id": 1
      }
     ]
    },
    "colab_type": "code",
    "collapsed": false,
    "deletable": true,
    "editable": true,
    "executionInfo": {
     "elapsed": 13688,
     "status": "ok",
     "timestamp": 1517949672053,
     "user": {
      "displayName": "Shubham Bhardwaj",
      "photoUrl": "//lh6.googleusercontent.com/-BXhAm93uluk/AAAAAAAAAAI/AAAAAAAAANo/jBS0PHEW1zo/s50-c-k-no/photo.jpg",
      "userId": "100068402576845994769"
     },
     "user_tz": 300
    },
    "id": "vZRgFlmwJd2K",
    "outputId": "2756079a-81ee-46cb-d228-66709b047192"
   },
   "outputs": [
    {
     "name": "stdout",
     "output_type": "stream",
     "text": [
      "moe_szyslak:(gets idea) actually homer...\n",
      "homer_simpson:(eyes wide, gasps) you and me?\n",
      "moe_szyslak: no, you wanna tell me stupid,...(to barflies) you gotta do it?\n",
      "moe_szyslak: no. oh, i just have to drown it up.\n",
      "fat_tony:(realizing) hey, wait a minute. duff adequate.\n",
      "moe_szyslak: ooh, sorry. think, i'm just gonna be on the matter homer, marge. and you gotta do everything like the(loud) save me!(sobs some a little old face) c'mon.\n",
      "homer_simpson: please, moe, if we did they had a rough day.\n",
      "lenny_leonard: that goes, moe. work the slot. show me? i'm done.\n",
      "homer_simpson:(out of breath, desperate) moe, you gotta! just always more of your guff!\n",
      "moe_szyslak: whoa, just a one can that's even if you guys) actually i okay to come with no joe.\n",
      "moe_szyslak: whoa, check it out. and ya gotta\n"
     ]
    }
   ],
   "source": [
    "gen_length = 200\n",
    "# homer_simpson, moe_szyslak, or Barney_Gumble\n",
    "prime_word = 'moe_szyslak'\n",
    "\n",
    "\"\"\"\n",
    "DON'T MODIFY ANYTHING IN THIS CELL THAT IS BELOW THIS LINE\n",
    "\"\"\"\n",
    "loaded_graph = tf.Graph()\n",
    "with tf.Session(graph=loaded_graph) as sess:\n",
    "    # Load saved model\n",
    "    loader = tf.train.import_meta_graph(load_dir + '.meta')\n",
    "    loader.restore(sess, load_dir)\n",
    "\n",
    "    # Get Tensors from loaded model\n",
    "    input_text, initial_state, final_state, probs = get_tensors(loaded_graph)\n",
    "\n",
    "    # Sentences generation setup\n",
    "    gen_sentences = [prime_word + ':']\n",
    "    prev_state = sess.run(initial_state, {input_text: np.array([[1]])})\n",
    "\n",
    "    # Generate sentences\n",
    "    for n in range(gen_length):\n",
    "        # Dynamic Input\n",
    "        dyn_input = [[vocab_to_int[word] for word in gen_sentences[-seq_length:]]]\n",
    "        dyn_seq_length = len(dyn_input[0])\n",
    "\n",
    "        # Get Prediction\n",
    "        probabilities, prev_state = sess.run(\n",
    "            [probs, final_state],\n",
    "            {input_text: dyn_input, initial_state: prev_state})\n",
    "        \n",
    "        pred_word = pick_word(probabilities[dyn_seq_length-1], int_to_vocab)\n",
    "\n",
    "        gen_sentences.append(pred_word)\n",
    "    \n",
    "    # Remove tokens\n",
    "    tv_script = ' '.join(gen_sentences)\n",
    "    for key, token in token_dict.items():\n",
    "        ending = ' ' if key in ['\\n', '(', '\"'] else ''\n",
    "        tv_script = tv_script.replace(' ' + token.lower(), key)\n",
    "    tv_script = tv_script.replace('\\n ', '\\n')\n",
    "    tv_script = tv_script.replace('( ', '(')\n",
    "        \n",
    "    print(tv_script)"
   ]
  },
  {
   "cell_type": "markdown",
   "metadata": {
    "colab_type": "text",
    "deletable": true,
    "editable": true,
    "id": "-zGmoUVLJd2N"
   },
   "source": [
    "# The TV Script is Nonsensical\n",
    "It's ok if the TV script doesn't make any sense.  We trained on less than a megabyte of text.  In order to get good results, you'll have to use a smaller vocabulary or get more data.  Luckly there's more data!  As we mentioned in the begging of this project, this is a subset of [another dataset](https://www.kaggle.com/wcukierski/the-simpsons-by-the-data).  We didn't have you train on all the data, because that would take too long.  However, you are free to train your neural network on all the data.  After you complete the project, of course.\n",
    "# Submitting This Project\n",
    "When submitting this project, make sure to run all the cells before saving the notebook. Save the notebook file as \"dlnd_tv_script_generation.ipynb\" and save it as a HTML file under \"File\" -> \"Download as\". Include the \"helper.py\" and \"problem_unittests.py\" files in your submission."
   ]
  }
 ],
 "metadata": {
  "colab": {
   "collapsed_sections": [],
   "default_view": {},
   "name": "dlnd_tv_script_generation.ipynb",
   "provenance": [],
   "version": "0.3.2",
   "views": {}
  },
  "kernelspec": {
   "display_name": "Python 3",
   "language": "python",
   "name": "python3"
  },
  "language_info": {
   "codemirror_mode": {
    "name": "ipython",
    "version": 3
   },
   "file_extension": ".py",
   "mimetype": "text/x-python",
   "name": "python",
   "nbconvert_exporter": "python",
   "pygments_lexer": "ipython3",
   "version": "3.5.4"
  }
 },
 "nbformat": 4,
 "nbformat_minor": 0
}
